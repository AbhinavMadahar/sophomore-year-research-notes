{
 "cells": [
  {
   "cell_type": "markdown",
   "metadata": {},
   "source": [
    "# Making Your First Generative RNN in Pytorch\n",
    "\n",
    "**Abhinav Madahar &middot; December 30, 2018**\n",
    "\n",
    "You should read this if you know how to make and use a recurrent neural network, like an LSTM or a GRU.\n",
    "\n",
    "Most models in machine learning are classifiers or regressors.\n",
    "Classifiers read some data and give a label, like looking at an image of a pet to classify it as a dog or a cat.\n",
    "Regressors read some data to spit out a number, like looking at a person to calculate their age.\n",
    "Generative models are neither.\n",
    "They read some data and *make more data*, like looking at a bunch of cats and then making new photos of cats.\n",
    "This is very difficult, so we will start with a very simple goal: look at a linear gradient and extend it.\n",
    "\n",
    "In this lesson, we will:\n",
    "\n",
    "1. make a dataset of spectra,\n",
    "2. make a model which predicts the next pixel given a current one,\n",
    "3. train the model on the dataset,\n",
    "4. see the model's output.\n",
    "\n",
    "To start, let's import a few packages."
   ]
  },
  {
   "cell_type": "code",
   "execution_count": 1,
   "metadata": {},
   "outputs": [],
   "source": [
    "import random\n",
    "\n",
    "import matplotlib.pyplot as plt\n",
    "import numpy as np\n",
    "import torch\n",
    "from torch import nn, optim"
   ]
  },
  {
   "cell_type": "markdown",
   "metadata": {},
   "source": [
    "Our dataset is very easy to generate, and we can preview the first few lines."
   ]
  },
  {
   "cell_type": "code",
   "execution_count": 2,
   "metadata": {},
   "outputs": [
    {
     "data": {
      "image/png": "[encoded data removed]",
      "text/plain": [
       "<Figure size 432x288 with 1 Axes>"
      ]
     },
     "metadata": {},
     "output_type": "display_data"
    }
   ],
   "source": [
    "size_of_dataset = 10000\n",
    "length_of_spectrum = 10\n",
    "\n",
    "dataset = []\n",
    "for _ in range(size_of_dataset):\n",
    "    principal = random.random()\n",
    "    rate = random.random() + 1\n",
    "    maximum = principal * rate ** length_of_spectrum  # to normalise the line\n",
    "    dataset.append([(principal * rate ** i) / maximum for i in range(length_of_spectrum)])\n",
    "dataset = np.array(dataset)\n",
    "\n",
    "plt.imshow(dataset[:10], cmap='Greys');"
   ]
  },
  {
   "cell_type": "markdown",
   "metadata": {},
   "source": [
    "Now, we can create the model itself, made of a GRU followed by a linear layer."
   ]
  },
  {
   "cell_type": "code",
   "execution_count": 3,
   "metadata": {},
   "outputs": [],
   "source": [
    "class GRUModel(nn.Module):\n",
    "    def __init__(self, input_dim, hidden_dim, batch_size, output_dim, num_layers):\n",
    "        super(GRUModel, self).__init__()\n",
    "        self.input_dim = input_dim\n",
    "        self.hidden_dim = hidden_dim\n",
    "        self.batch_size = batch_size\n",
    "        self.num_layers = num_layers\n",
    "        self.output_dim = output_dim\n",
    "        \n",
    "        self.gru = nn.GRU(self.input_dim, self.hidden_dim, self.num_layers)\n",
    "        self.linear = nn.Linear(self.hidden_dim, self.output_dim)\n",
    "        \n",
    "    def forward(self, input_sequence):\n",
    "        out, hidden = self.gru(input_sequence)\n",
    "        pred = self.linear(out[-1])\n",
    "        return pred"
   ]
  },
  {
   "cell_type": "markdown",
   "metadata": {},
   "source": [
    "Now, we can train the model."
   ]
  },
  {
   "cell_type": "code",
   "execution_count": 5,
   "metadata": {},
   "outputs": [
    {
     "name": "stdout",
     "output_type": "stream",
     "text": [
      "0 (loss=60.66951370239258)\n",
      "1 (loss=60.843231201171875)\n",
      "2 (loss=63.894927978515625)\n",
      "3 (loss=59.44229507446289)\n",
      "4 (loss=54.062042236328125)\n",
      "5 (loss=51.24949264526367)\n",
      "6 (loss=50.41819381713867)\n",
      "7 (loss=52.54805374145508)\n",
      "8 (loss=45.711063385009766)\n",
      "9 (loss=48.51734924316406)\n",
      "10 (loss=45.17933654785156)\n",
      "11 (loss=46.3193359375)\n",
      "12 (loss=41.43000793457031)\n",
      "13 (loss=41.01415252685547)\n",
      "14 (loss=38.665279388427734)\n",
      "15 (loss=41.135013580322266)\n",
      "16 (loss=31.342227935791016)\n",
      "17 (loss=33.869834899902344)\n",
      "18 (loss=34.356056213378906)\n",
      "19 (loss=33.06422424316406)\n",
      "20 (loss=27.726890563964844)\n",
      "21 (loss=27.328542709350586)\n",
      "22 (loss=32.118194580078125)\n",
      "23 (loss=24.75952911376953)\n",
      "24 (loss=24.4255313873291)\n",
      "25 (loss=24.75432777404785)\n",
      "26 (loss=26.959739685058594)\n",
      "27 (loss=25.5402889251709)\n",
      "28 (loss=22.468420028686523)\n",
      "29 (loss=23.68446922302246)\n",
      "30 (loss=23.919294357299805)\n",
      "31 (loss=21.4263973236084)\n",
      "32 (loss=19.208831787109375)\n",
      "33 (loss=21.721092224121094)\n",
      "34 (loss=20.815044403076172)\n",
      "35 (loss=22.767009735107422)\n",
      "36 (loss=21.373821258544922)\n",
      "37 (loss=14.375020027160645)\n",
      "38 (loss=22.531816482543945)\n",
      "39 (loss=17.489009857177734)\n",
      "40 (loss=13.052279472351074)\n",
      "41 (loss=16.076860427856445)\n",
      "42 (loss=17.250822067260742)\n",
      "43 (loss=13.945621490478516)\n",
      "44 (loss=13.338150978088379)\n",
      "45 (loss=15.236620903015137)\n",
      "46 (loss=12.981605529785156)\n",
      "47 (loss=12.579582214355469)\n",
      "48 (loss=14.335443496704102)\n",
      "49 (loss=12.591045379638672)\n",
      "50 (loss=15.384398460388184)\n",
      "51 (loss=10.773090362548828)\n",
      "52 (loss=11.523870468139648)\n",
      "53 (loss=10.281781196594238)\n",
      "54 (loss=13.9159574508667)\n",
      "55 (loss=10.60519790649414)\n",
      "56 (loss=11.753886222839355)\n",
      "57 (loss=11.76305103302002)\n",
      "58 (loss=11.891263961791992)\n",
      "59 (loss=10.008082389831543)\n",
      "60 (loss=10.648151397705078)\n",
      "61 (loss=11.687110900878906)\n",
      "62 (loss=11.232687950134277)\n",
      "63 (loss=11.235177993774414)\n",
      "64 (loss=12.38304615020752)\n",
      "65 (loss=10.695940971374512)\n",
      "66 (loss=10.299383163452148)\n",
      "67 (loss=10.523406982421875)\n",
      "68 (loss=11.226277351379395)\n",
      "69 (loss=11.52599048614502)\n",
      "70 (loss=10.513566970825195)\n",
      "71 (loss=9.979995727539062)\n",
      "72 (loss=9.565413475036621)\n",
      "73 (loss=9.01521110534668)\n",
      "74 (loss=8.703624725341797)\n",
      "75 (loss=7.209231376647949)\n",
      "76 (loss=8.768091201782227)\n",
      "77 (loss=8.230020523071289)\n",
      "78 (loss=10.581984519958496)\n",
      "79 (loss=8.820365905761719)\n",
      "80 (loss=9.514727592468262)\n",
      "81 (loss=9.227912902832031)\n",
      "82 (loss=10.04416561126709)\n",
      "83 (loss=7.932047367095947)\n",
      "84 (loss=10.529565811157227)\n",
      "85 (loss=10.816497802734375)\n",
      "86 (loss=9.913086891174316)\n",
      "87 (loss=7.80700159072876)\n",
      "88 (loss=7.156136512756348)\n",
      "89 (loss=9.319927215576172)\n",
      "90 (loss=7.727977275848389)\n",
      "91 (loss=8.100885391235352)\n",
      "92 (loss=10.096805572509766)\n",
      "93 (loss=9.654358863830566)\n",
      "94 (loss=10.089524269104004)\n",
      "95 (loss=8.971854209899902)\n",
      "96 (loss=8.618762016296387)\n",
      "97 (loss=8.01015853881836)\n",
      "98 (loss=7.031203746795654)\n",
      "99 (loss=8.760022163391113)\n",
      "CPU times: user 31min 8s, sys: 3min 23s, total: 34min 32s\n",
      "Wall time: 2min 52s\n"
     ]
    }
   ],
   "source": [
    "%%time\n",
    "\n",
    "batch_size = 100\n",
    "hidden_dim = 8\n",
    "\n",
    "sequence_length = 3\n",
    "model = GRUModel(input_dim=sequence_length, hidden_dim=hidden_dim, batch_size=batch_size, output_dim=1, num_layers=1)\n",
    "\n",
    "criterion = nn.MSELoss()\n",
    "optimiser = optim.SGD(model.parameters(), lr=0.0001)\n",
    "losses = []\n",
    "\n",
    "n_epochs = 100\n",
    "\n",
    "for epoch in range(n_epochs):\n",
    "    np.random.shuffle(dataset)\n",
    "\n",
    "    batches = []\n",
    "    batch = []\n",
    "    for line in dataset:\n",
    "        batch.append(line)\n",
    "        if len(batch) == batch_size:\n",
    "            batches.append(batch)\n",
    "            batch = []\n",
    "    batches = np.array(batches).reshape(-1, batch_size, 10, 1)\n",
    "    batches = np.swapaxes(batches, 1, 2)\n",
    "\n",
    "    epoch_loss = 0\n",
    "    for batch in batches:\n",
    "        x = [list(zip(*(np.roll(batch[:, row, 0], -offset)[:-(sequence_length+1)] for offset in range(sequence_length)))) for row in range(batch_size)]\n",
    "        x = sum(x, [])\n",
    "        x = np.array(list(x)).reshape(1, -1, sequence_length)\n",
    "        y = np.roll(batch[:, 0, 0], -sequence_length)[:-sequence_length]\n",
    "        x, y = torch.from_numpy(x), torch.from_numpy(y)\n",
    "        x, y = x.float(), y.float()\n",
    "        model.zero_grad()\n",
    "        gru_out = model(x)\n",
    "        loss = criterion(gru_out, y)\n",
    "        loss.backward()\n",
    "        optimiser.step()\n",
    "        epoch_loss += loss\n",
    "    losses.append(float(epoch_loss))\n",
    "    print(epoch, '(loss={})'.format(epoch_loss))"
   ]
  },
  {
   "cell_type": "code",
   "execution_count": 6,
   "metadata": {},
   "outputs": [
    {
     "data": {
      "text/plain": [
       "[<matplotlib.lines.Line2D at 0x7f75821e2160>]"
      ]
     },
     "execution_count": 6,
     "metadata": {},
     "output_type": "execute_result"
    },
    {
     "data": {
      "image/png": "[encoded data removed]",
      "text/plain": [
       "<Figure size 432x288 with 1 Axes>"
      ]
     },
     "metadata": {},
     "output_type": "display_data"
    }
   ],
   "source": [
    "plt.plot(losses)"
   ]
  },
  {
   "cell_type": "code",
   "execution_count": 13,
   "metadata": {},
   "outputs": [
    {
     "data": {
      "image/png": "[encoded data removed]",
      "text/plain": [
       "<Figure size 432x288 with 1 Axes>"
      ]
     },
     "metadata": {},
     "output_type": "display_data"
    }
   ],
   "source": [
    "np.random.shuffle(dataset)\n",
    "initial_pixels = torch.from_numpy(dataset[:10, 0:sequence_length]).reshape(1, 10, -1).float()\n",
    "\n",
    "reconstruction = initial_pixels.detach().numpy()\n",
    "for i in range(10-sequence_length):\n",
    "    reconstruction = torch.from_numpy(reconstruction)\n",
    "    column = model(reconstruction[:, :, i:]).detach().numpy()\n",
    "    reconstruction = np.concatenate([reconstruction[0], column], axis=1).reshape(1, 10, -1)\n",
    "    \n",
    "reconstruction = reconstruction.reshape(10, -1)\n",
    "\n",
    "plt.imshow(reconstruction, cmap='Greys');"
   ]
  },
  {
   "cell_type": "code",
   "execution_count": null,
   "metadata": {},
   "outputs": [],
   "source": []
  }
 ],
 "metadata": {
  "kernelspec": {
   "display_name": "Python 3",
   "language": "python",
   "name": "python3"
  },
  "language_info": {
   "codemirror_mode": {
    "name": "ipython",
    "version": 3
   },
   "file_extension": ".py",
   "mimetype": "text/x-python",
   "name": "python",
   "nbconvert_exporter": "python",
   "pygments_lexer": "ipython3",
   "version": "3.5.5"
  }
 },
 "nbformat": 4,
 "nbformat_minor": 2
}
