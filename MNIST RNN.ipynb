{
 "cells": [
  {
   "cell_type": "markdown",
   "metadata": {},
   "source": [
    "# MNIST RNN\n",
    "\n",
    "This single-GRU-based model learns to generate greyscale \"images\" which are just a bunch of pixels in a single line.\n",
    "Specifically, it learns to generate images which steadily increase in brightness as they move left-to-right."
   ]
  },
  {
   "cell_type": "code",
   "execution_count": 1,
   "metadata": {},
   "outputs": [],
   "source": [
    "import random\n",
    "from itertools import chain\n",
    "\n",
    "import matplotlib.pyplot as plt\n",
    "import numpy as np\n",
    "import torch\n",
    "from torch import nn, optim"
   ]
  },
  {
   "cell_type": "markdown",
   "metadata": {},
   "source": [
    "The dataset is very easy to generate, and we can easily preview the first few lines."
   ]
  },
  {
   "cell_type": "code",
   "execution_count": 176,
   "metadata": {},
   "outputs": [
    {
     "data": {
      "image/png": "[encoded data removed]",
      "text/plain": [
       "<Figure size 432x288 with 1 Axes>"
      ]
     },
     "metadata": {},
     "output_type": "display_data"
    }
   ],
   "source": [
    "dataset = []\n",
    "for _ in range(1000):\n",
    "    principal = random.random() / 2 + 0.5\n",
    "    rate = random.random() + 1\n",
    "    maximum = principal * rate ** 10\n",
    "    dataset.append([(principal * rate ** i) / maximum for i in range(10)])\n",
    "dataset = np.array(dataset)\n",
    "dataset /= dataset.max()\n",
    "\n",
    "plt.imshow(dataset[:10, :], cmap='Greys');"
   ]
  },
  {
   "cell_type": "markdown",
   "metadata": {},
   "source": [
    "Now, we can create the GRU, which reads a sequence of values from left to right to determine the value of the next pixel."
   ]
  },
  {
   "cell_type": "code",
   "execution_count": 233,
   "metadata": {},
   "outputs": [
    {
     "name": "stdout",
     "output_type": "stream",
     "text": [
      "Epoch 0\n",
      "Epoch 10\n",
      "Epoch 20\n",
      "Epoch 30\n",
      "Epoch 40\n",
      "Epoch 50\n",
      "Epoch 60\n",
      "Epoch 70\n",
      "Epoch 80\n",
      "Epoch 90\n",
      "Epoch 100\n",
      "Epoch 110\n",
      "Epoch 120\n",
      "Epoch 130\n",
      "Epoch 140\n",
      "Epoch 150\n",
      "Epoch 160\n",
      "Epoch 170\n",
      "Epoch 180\n",
      "Epoch 190\n",
      "Epoch 200\n",
      "Epoch 210\n",
      "Epoch 220\n",
      "Epoch 230\n",
      "Epoch 240\n",
      "Epoch 250\n",
      "Epoch 260\n",
      "Epoch 270\n",
      "Epoch 280\n",
      "Epoch 290\n",
      "Epoch 300\n",
      "Epoch 310\n",
      "Epoch 320\n",
      "Epoch 330\n",
      "Epoch 340\n",
      "Epoch 350\n",
      "Epoch 360\n",
      "Epoch 370\n",
      "Epoch 380\n",
      "Epoch 390\n",
      "CPU times: user 29.9 s, sys: 401 ms, total: 30.3 s\n",
      "Wall time: 30.3 s\n"
     ]
    }
   ],
   "source": [
    "%%time\n",
    "\n",
    "hidden_size = 8\n",
    "gru = nn.GRU(input_size=1, hidden_size=hidden_size)\n",
    "\n",
    "criterion = nn.MSELoss()\n",
    "optimizer = optim.Adam(gru.parameters(), lr=0.0001)\n",
    "\n",
    "losses = []\n",
    "\n",
    "batch_size = 100\n",
    "n_epochs = 400\n",
    "\n",
    "for epoch in range(n_epochs):\n",
    "    if epoch % 10 == 0:\n",
    "        print('Epoch', epoch)\n",
    "\n",
    "    np.random.shuffle(dataset)\n",
    "    batches = []\n",
    "    batch = []\n",
    "    for line in dataset:\n",
    "        batch.append(line)\n",
    "        if len(batch) == batch_size:\n",
    "            batches.append(batch)\n",
    "            batch = []\n",
    "    batches = np.array(batches).reshape(-1, batch_size, 10, 1)\n",
    "    batches = np.swapaxes(batches, 1, 2)\n",
    "\n",
    "    for batch in batches:\n",
    "        x = batch[:, :-1]\n",
    "        y = np.roll(batch, -1)[:, :-1]\n",
    "        x, y = torch.from_numpy(x), torch.from_numpy(y)\n",
    "        x, y = x.float(), y.float()\n",
    "        gru.zero_grad()\n",
    "        gru_out, _ = gru(x)\n",
    "        loss = criterion(gru_out, y)\n",
    "        loss.backward()\n",
    "        optimizer.step()\n",
    "        losses.append(loss)"
   ]
  },
  {
   "cell_type": "code",
   "execution_count": 234,
   "metadata": {},
   "outputs": [
    {
     "data": {
      "text/plain": [
       "array([[0.2567085 , 0.17452723, 0.18564579, 0.1841686 , 0.18436535,\n",
       "        0.18433918, 0.18434264, 0.18434215, 0.18434227, 0.18434222],\n",
       "       [0.00933397, 0.20657782, 0.18136458, 0.18473843, 0.18428952,\n",
       "        0.18434922, 0.18434131, 0.18434235, 0.18434224, 0.18434222],\n",
       "       [0.01534326, 0.20585003, 0.18146259, 0.18472539, 0.18429121,\n",
       "        0.18434903, 0.18434134, 0.18434235, 0.18434224, 0.18434222],\n",
       "       [0.00355863, 0.2072749 , 0.18127072, 0.18475085, 0.18428782,\n",
       "        0.1843495 , 0.18434128, 0.18434235, 0.18434224, 0.18434222],\n",
       "       [0.32010233, 0.16563705, 0.18682075, 0.184012  , 0.18438622,\n",
       "        0.1843364 , 0.18434304, 0.18434212, 0.18434227, 0.18434222],\n",
       "       [0.00113957, 0.20756617, 0.18123144, 0.1847561 , 0.18428713,\n",
       "        0.18434957, 0.18434125, 0.18434235, 0.18434224, 0.18434222],\n",
       "       [0.00290198, 0.20735398, 0.18126   , 0.18475232, 0.18428762,\n",
       "        0.1843495 , 0.18434128, 0.18434235, 0.18434224, 0.18434222],\n",
       "       [0.01021212, 0.20647165, 0.18137887, 0.18473648, 0.18428972,\n",
       "        0.18434924, 0.18434131, 0.18434235, 0.18434224, 0.18434222],\n",
       "       [0.0274114 , 0.20438066, 0.18166034, 0.18469909, 0.18429473,\n",
       "        0.18434854, 0.18434143, 0.18434235, 0.18434224, 0.18434222],\n",
       "       [0.00839513, 0.20669131, 0.1813493 , 0.18474045, 0.18428922,\n",
       "        0.1843493 , 0.18434128, 0.18434235, 0.18434224, 0.18434222]],\n",
       "      dtype=float32)"
      ]
     },
     "execution_count": 234,
     "metadata": {},
     "output_type": "execute_result"
    }
   ],
   "source": [
    "reconstruction"
   ]
  },
  {
   "cell_type": "code",
   "execution_count": 235,
   "metadata": {},
   "outputs": [
    {
     "data": {
      "text/plain": [
       "[<matplotlib.lines.Line2D at 0x7f6ce42eda20>]"
      ]
     },
     "execution_count": 235,
     "metadata": {},
     "output_type": "execute_result"
    },
    {
     "data": {
      "image/png": "[encoded data removed]",
      "text/plain": [
       "<Figure size 432x288 with 1 Axes>"
      ]
     },
     "metadata": {},
     "output_type": "display_data"
    }
   ],
   "source": [
    "plt.plot(losses)"
   ]
  },
  {
   "cell_type": "code",
   "execution_count": 236,
   "metadata": {},
   "outputs": [
    {
     "ename": "ValueError",
     "evalue": "all the input array dimensions except for the concatenation axis must match exactly",
     "output_type": "error",
     "traceback": [
      "\u001b[0;31m---------------------------------------------------------------------------\u001b[0m",
      "\u001b[0;31mValueError\u001b[0m                                Traceback (most recent call last)",
      "\u001b[0;32m<ipython-input-236-52fa8981b6fe>\u001b[0m in \u001b[0;36m<module>\u001b[0;34m()\u001b[0m\n\u001b[1;32m      4\u001b[0m \u001b[0;32mfor\u001b[0m \u001b[0m_\u001b[0m \u001b[0;32min\u001b[0m \u001b[0mrange\u001b[0m\u001b[0;34m(\u001b[0m\u001b[0;36m9\u001b[0m\u001b[0;34m)\u001b[0m\u001b[0;34m:\u001b[0m\u001b[0;34m\u001b[0m\u001b[0m\n\u001b[1;32m      5\u001b[0m     \u001b[0mcolumn\u001b[0m \u001b[0;34m=\u001b[0m \u001b[0mgru\u001b[0m\u001b[0;34m(\u001b[0m\u001b[0mcolumn\u001b[0m\u001b[0;34m)\u001b[0m\u001b[0;34m[\u001b[0m\u001b[0;36m0\u001b[0m\u001b[0;34m]\u001b[0m\u001b[0;34m\u001b[0m\u001b[0m\n\u001b[0;32m----> 6\u001b[0;31m     \u001b[0mreconstruction\u001b[0m \u001b[0;34m=\u001b[0m \u001b[0mnp\u001b[0m\u001b[0;34m.\u001b[0m\u001b[0mconcatenate\u001b[0m\u001b[0;34m(\u001b[0m\u001b[0;34m[\u001b[0m\u001b[0mreconstruction\u001b[0m\u001b[0;34m,\u001b[0m \u001b[0mcolumn\u001b[0m\u001b[0;34m.\u001b[0m\u001b[0mdetach\u001b[0m\u001b[0;34m(\u001b[0m\u001b[0;34m)\u001b[0m\u001b[0;34m.\u001b[0m\u001b[0mnumpy\u001b[0m\u001b[0;34m(\u001b[0m\u001b[0;34m)\u001b[0m\u001b[0;34m]\u001b[0m\u001b[0;34m)\u001b[0m\u001b[0;34m\u001b[0m\u001b[0m\n\u001b[0m",
      "\u001b[0;31mValueError\u001b[0m: all the input array dimensions except for the concatenation axis must match exactly"
     ]
    }
   ],
   "source": [
    "initial_pixels = torch.from_numpy(dataset[:10, 0]).reshape(1, 10, 1).float()\n",
    "reconstruction = initial_pixels\n",
    "column = initial_pixels\n",
    "for _ in range(9):\n",
    "    column = gru(column)[0]\n",
    "    reconstruction = np.concatenate([reconstruction, column.detach().numpy()])"
   ]
  },
  {
   "cell_type": "code",
   "execution_count": 239,
   "metadata": {},
   "outputs": [
    {
     "data": {
      "text/plain": [
       "torch.Size([1, 10, 1])"
      ]
     },
     "execution_count": 239,
     "metadata": {},
     "output_type": "execute_result"
    }
   ],
   "source": [
    "reconstruction.shape"
   ]
  },
  {
   "cell_type": "code",
   "execution_count": 226,
   "metadata": {},
   "outputs": [],
   "source": [
    "reconstruction = reconstruction.reshape(10, 10).T"
   ]
  },
  {
   "cell_type": "code",
   "execution_count": 227,
   "metadata": {},
   "outputs": [
    {
     "data": {
      "text/plain": [
       "<matplotlib.image.AxesImage at 0x7f6d17560eb8>"
      ]
     },
     "execution_count": 227,
     "metadata": {},
     "output_type": "execute_result"
    },
    {
     "data": {
      "image/png": "[encoded data removed]",
      "text/plain": [
       "<Figure size 432x288 with 1 Axes>"
      ]
     },
     "metadata": {},
     "output_type": "display_data"
    }
   ],
   "source": [
    "plt.imshow(reconstruction, cmap='Greys')"
   ]
  },
  {
   "cell_type": "code",
   "execution_count": null,
   "metadata": {},
   "outputs": [],
   "source": []
  }
 ],
 "metadata": {
  "kernelspec": {
   "display_name": "Python 3",
   "language": "python",
   "name": "python3"
  },
  "language_info": {
   "codemirror_mode": {
    "name": "ipython",
    "version": 3
   },
   "file_extension": ".py",
   "mimetype": "text/x-python",
   "name": "python",
   "nbconvert_exporter": "python",
   "pygments_lexer": "ipython3",
   "version": "3.5.5"
  }
 },
 "nbformat": 4,
 "nbformat_minor": 2
}
