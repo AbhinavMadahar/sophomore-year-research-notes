{
 "cells": [
  {
   "cell_type": "markdown",
   "metadata": {},
   "source": [
    "# Reproduction: Planning in Dynamic Environments with Conditional Autoregressive Models\n",
    "\n",
    "**Abhinav Madahar (<abhinav.madahar@rutgers.edu>) &middot; Sungjin Ahn**"
   ]
  },
  {
   "cell_type": "code",
   "execution_count": 1,
   "metadata": {},
   "outputs": [],
   "source": [
    "import itertools\n",
    "import math\n",
    "import random\n",
    "from collections import namedtuple\n",
    "from enum import Enum\n",
    "from math import ceil, log, log10, sqrt\n",
    "from multiprocessing import Pool, cpu_count\n",
    "\n",
    "import matplotlib.animation\n",
    "import matplotlib.pyplot as plt\n",
    "import numpy as np\n",
    "import torch\n",
    "import torch.nn.functional as nn\n",
    "from IPython.core.display import HTML\n",
    "from matplotlib.colors import LinearSegmentedColormap\n",
    "from scipy.signal import medfilt\n",
    "from torch import autograd, optim\n",
    "from torch.autograd import Variable\n",
    "\n",
    "%matplotlib inline\n",
    "plt.rcParams[\"animation.html\"] = \"jshtml\"\n",
    "random.seed(0)"
   ]
  },
  {
   "cell_type": "markdown",
   "metadata": {},
   "source": [
    "## Making the Environment\n",
    "\n",
    "We first make the environment.\n",
    "These are some, but not all, of the parts I need to finish to make the environment.\n",
    "\n",
    "At first, the agent will be a simple VAE.\n",
    "\n",
    "I want the `Environment` class to be completely deterministic, assuming that the model is deterministic.\n",
    "The randomness, like for placing the goal and agent, are separated into other functions.\n",
    "We also create an enum to keep track of whether the current game is running, has been won, or has been lost."
   ]
  },
  {
   "cell_type": "code",
   "execution_count": 2,
   "metadata": {},
   "outputs": [],
   "source": [
    "def flatten(nested):\n",
    "    values = []\n",
    "    for element in nested:\n",
    "        try:\n",
    "            values = values.concat(flatten(element))\n",
    "        except:\n",
    "            values.append(element)\n",
    "    return values\n",
    "                    \n",
    "def sgn(val):\n",
    "    if val > 0:\n",
    "        return 1\n",
    "    elif val == 0:\n",
    "        return 0\n",
    "    else:\n",
    "        return -1\n",
    "\n",
    "class Vector2D:\n",
    "    def __init__(self, x, y):\n",
    "        self.x = x\n",
    "        self.y = y\n",
    "        \n",
    "    def __add__(self, v):\n",
    "        return Vector2D(self.x + v.x, self.y + v.y)\n",
    "    \n",
    "    def __mul__(self, a):\n",
    "        return Vector2D(a * self.x, a * self.y)\n",
    "    \n",
    "    def __repr__(self):\n",
    "        return '{}({}, {})'.format(type(self).__name__, self.x, self.y)\n",
    "    \n",
    "    def __eq__(self, v):\n",
    "        return self.x == v.x and self.y == v.y\n",
    "    \n",
    "    def __iter__(self):\n",
    "        yield self.x\n",
    "        yield self.y\n",
    "\n",
    "class Position(Vector2D): \n",
    "    pass\n",
    "\n",
    "class Velocity(Vector2D): \n",
    "    pass\n",
    "        \n",
    "def random_position(height, width):\n",
    "    \"\"\"Generates a psuedorandom position where 0 <= x < height and 0 <= y < width. The x and y are integers.\"\"\"\n",
    "    return Position(random.randrange(height), random.randrange(width))\n",
    "\n",
    "def random_velocity(speed):\n",
    "    theta = random.uniform(-1, 1) * math.pi\n",
    "    return Velocity(speed * math.cos(theta), speed * math.sin(theta))\n",
    "\n",
    "class GameState(Enum):\n",
    "    WON = 0\n",
    "    COLLIDED = 1\n",
    "    TIMEOUT = 2\n",
    "    \n",
    "class Direction(Enum):\n",
    "    LEFT = 0\n",
    "    RIGHT = 1\n",
    "    \n",
    "ObstacleClass = namedtuple('ObstacleClass', ['length', 'speed'])\n",
    "Obstacle = namedtuple('Obstacle', ['obstacle_class', 'position'])\n",
    "\n",
    "def obstacle_from_class_id(id):\n",
    "    \"\"\"The `id` argument is the class ID in [0, 1, 2, 3, 4].\"\"\"\n",
    "    obstacle_classes = [\n",
    "        ObstacleClass(3, 1),\n",
    "        ObstacleClass(3, 2),\n",
    "        ObstacleClass(6, 1),\n",
    "        ObstacleClass(6, 2),\n",
    "        ObstacleClass(1.5, 0.5),\n",
    "    ]\n",
    "    return obstacle_classes[id]\n",
    "\n",
    "def random_obstacle_lanes(n_lanes):\n",
    "    return [obstacle_from_class_id(random.randrange(5)) for _ in range(n_lanes)]"
   ]
  },
  {
   "cell_type": "markdown",
   "metadata": {},
   "source": [
    "We can now make the `Environment` class."
   ]
  },
  {
   "cell_type": "code",
   "execution_count": 3,
   "metadata": {},
   "outputs": [],
   "source": [
    "def model_decision():\n",
    "    \"\"\"Get the model's decision on where to move given the current environment using integers 0 through 7.\n",
    "    This is redefined after the model is created.\"\"\"\n",
    "    # until I replicate the model, it will always select action 0\n",
    "    return 0\n",
    "\n",
    "class Environment:\n",
    "    def __init__(self, height, width, goal_pos, goal_vel, max_time, level):\n",
    "        \"\"\"\n",
    "            Initialize the environment.\n",
    "            \n",
    "            Args:\n",
    "                height: int, the height of the environment.\n",
    "                width: int, the width of the environment.\n",
    "                goal_pos: Position, the initial position of the goal; the goal is 2x2, so the goal_pos is its bottom-left corner.\n",
    "                goal_vel: Velocity, the velocity of the goal at the start of the experiment. This can change if it hits a wall.\n",
    "                max_time: int, the maximum number of timesteps which can elapse before an automatic loss.\n",
    "        \"\"\"\n",
    "        \n",
    "        self.height = height\n",
    "        self.width = width\n",
    "        \n",
    "        assert 0 <= goal_pos.x <= width - 1\n",
    "        assert 0 <= goal_pos.y <= height - 1  # ditto\n",
    "        self.goal_pos = goal_pos\n",
    "\n",
    "        self.goal_vel = goal_vel\n",
    "        \n",
    "        self.max_time = max_time\n",
    "        self.time = 0\n",
    "        \n",
    "        # randomly assign obstacle lanes for each lane.\n",
    "        # note that a single lane can have multiple obstacles, so we have a list of obstacles in each lane\n",
    "        n_obstacle_lanes = self.height\n",
    "        self.n_obstacle_lanes = n_obstacle_lanes\n",
    "        self.obstacle_classes = random_obstacle_lanes(n_obstacle_lanes)\n",
    "        self.obstacle_directions = [Direction(random.randrange(2)) for _ in range(n_obstacle_lanes)]\n",
    "        self.obstacle_lanes = [[] for _ in range(n_obstacle_lanes)]\n",
    "        \n",
    "        self.level = level\n",
    "        self.add_obstacles()\n",
    "    \n",
    "    def __repr__(self):\n",
    "        return 'Environment(height={}, width={}, agent_pos={}, goal_pos={}, agent_speed={}, goal_vel={})'.format(\n",
    "            self.height, self.width, self.agent_pos, self.goal_pos, self.agent_speed, self.goal_vel)\n",
    "    \n",
    "    def __str__(self):\n",
    "        \"\"\"An ASCII diagram of the environment.\"\"\"\n",
    "\n",
    "        board = '|' + '-' * self.width + '|\\n'\n",
    "        for row in range(self.height):\n",
    "            board += '|'\n",
    "            for col in range(self.width):\n",
    "                if Position(row, col) == self.rounded(self.agent_pos):\n",
    "                    board += 'a'\n",
    "                elif Position(row, col) in self.hitbox(self.goal_pos, (2, 2)):\n",
    "                    board += 'g'\n",
    "                else:\n",
    "                    board += ' '\n",
    "            board += '|\\n'\n",
    "        board += '|' + '-' * self.width + '|'\n",
    "        \n",
    "        return board\n",
    "    \n",
    "    def move(self):\n",
    "        \"\"\"Makes all the objects move in a single timestep and returns the game state.\"\"\"\n",
    "        \n",
    "        def move_object(obj, vel):\n",
    "            # instead of making a good solution, I made an easy one.\n",
    "            # we move the object by velocity * dt where dt is a small scalar.\n",
    "            # if we go out of bounds, then we flip the coordinate(s) which are out of bounds\n",
    "            dt = 0.01\n",
    "            for _ in range(int(1 / dt)):\n",
    "                obj += vel * dt\n",
    "                \n",
    "                if obj.x < 0:\n",
    "                    vel.x = abs(vel.x) * 1  # make sure to go right\n",
    "                elif obj.x > self.width:\n",
    "                    vel.x = abs(vel.x) * -1  # make sure to go left\n",
    "                    \n",
    "                if obj.y < 0:\n",
    "                    vel.y = abs(vel.y) * 1  # make sure to go up\n",
    "                elif obj.y > self.height:\n",
    "                    vel.y = abs(vel.y) * -1  # make sure to go down\n",
    "\n",
    "            \n",
    "            return obj\n",
    "        \n",
    "        self.goal_pos = move_object(self.goal_pos, self.goal_vel)\n",
    "\n",
    "        # we move the obstacles\n",
    "        for lane, direction in zip(self.obstacle_lanes, self.obstacle_directions):\n",
    "            for j, obstacle in enumerate(lane):\n",
    "                speed     = obstacle.obstacle_class.speed\n",
    "                direction = 1 if direction == Direction.RIGHT else -1\n",
    "                obstacle.position.y += direction * speed\n",
    "\n",
    "        self.remove_out_of_bounds_obstacles()\n",
    "        self.add_obstacles()\n",
    "        \n",
    "        self.time += 1\n",
    "\n",
    "    def hitbox(self, position, shape: [int, int]):\n",
    "        \"\"\"\n",
    "        Returns an array of all the positions which are in this element's hitbox.\n",
    "        Note that shape = [length in x, height in y].\n",
    "        \"\"\"\n",
    "        \n",
    "        position = self.rounded(position)\n",
    "        hitboxes = []\n",
    "        for offset_y in range(ceil(shape[0])):\n",
    "            for offset_x in range(ceil(shape[1])):\n",
    "                hitboxes.append(Position(position.x + offset_x, position.y + offset_y))\n",
    "        return hitboxes\n",
    "\n",
    "    def rounded(self, position):\n",
    "        return Position(round(position.x), round(position.y))\n",
    "    \n",
    "    def add_obstacles(self):\n",
    "        \"\"\"Add obstacles based on a Poisson distribution.\"\"\"\n",
    "        \n",
    "        # decide into which lanes to add obstacles\n",
    "        number_obstacles_to_introduce = np.random.poisson(lam=self.level)\n",
    "        obstacle_lanes = list(range(self.n_obstacle_lanes))\n",
    "        random.shuffle(obstacle_lanes)\n",
    "        lanes_in_which_we_add_obstacles = obstacle_lanes[:number_obstacles_to_introduce]\n",
    "        \n",
    "        for lane in lanes_in_which_we_add_obstacles:\n",
    "            end = 0 if self.obstacle_directions[lane] == Direction.RIGHT else self.width\n",
    "            obstacle = Obstacle(self.obstacle_classes[lane], Position(lane, end))\n",
    "            self.obstacle_lanes[lane].append(obstacle)\n",
    "        \n",
    "    def remove_out_of_bounds_obstacles(self):\n",
    "        for lane, direction in zip(self.obstacle_lanes, self.obstacle_directions):\n",
    "            for j, obstacle in enumerate(lane):\n",
    "                left_moving_and_out_of_bounds = direction == Direction.LEFT and obstacle.position.x + obstacle.obstacle_class.length < 0\n",
    "                right_moving_and_out_of_bounds = direction == Direction.RIGHT and obstacle.position.x + obstacle.obstacle_class.length > self.width\n",
    "                \n",
    "                if left_moving_and_out_of_bounds or right_moving_and_out_of_bounds:\n",
    "                    lane.pop(j)\n",
    "\n",
    "    def model_readable_representation(self):\n",
    "        \"\"\"Represents the environment using a torch tensor. A point is 0 if empty, 1 if an obstacle is there, and 2 for goal.\"\"\"\n",
    "        \n",
    "        # we have to increment because (self.width, self.height) is a valid point on the board\n",
    "        rep = np.zeros([self.width+1, self.height+1], dtype=np.float64)\n",
    "        \n",
    "        obstacles = []\n",
    "        for lane in self.obstacle_lanes:\n",
    "            for obstacle in lane:\n",
    "                obstacles.append(obstacle)\n",
    "        obstacle_points = []\n",
    "        for obstacle in obstacles:\n",
    "            for point in environment.hitbox(obstacle.position, [obstacle.obstacle_class.length, 1]):\n",
    "                obstacle_points.append(point)\n",
    "        \n",
    "        for position in obstacle_points:\n",
    "            # obstacles can sometimes go beyond the bounds along the x-axis, \n",
    "            # which is valid but makes it impossible to put them on the representation.\n",
    "            if 0 <= position.x <= self.width and 0 <= position.y <= self.height:\n",
    "                rep[position.x][position.y] = 1\n",
    "\n",
    "        goal_hitpoints = self.hitbox(self.goal_pos, [2, 1])\n",
    "        for position in goal_hitpoints:\n",
    "            if 0 <= position.x < self.width and 0 <= position.y <= self.height:\n",
    "                rep[position.x][position.y] = 2\n",
    "        \n",
    "        return rep"
   ]
  },
  {
   "cell_type": "markdown",
   "metadata": {},
   "source": [
    "We can make an environment and see what it looks like when it's run."
   ]
  },
  {
   "cell_type": "code",
   "execution_count": 4,
   "metadata": {},
   "outputs": [],
   "source": [
    "height = 45\n",
    "width = 45\n",
    "max_time = 407\n",
    "goal_speed = 1\n",
    "goal_pos = random_position(height-1, width-1)\n",
    "goal_vel = random_velocity(goal_speed)\n",
    "level = 1"
   ]
  },
  {
   "cell_type": "code",
   "execution_count": 5,
   "metadata": {},
   "outputs": [],
   "source": [
    "%%capture\n",
    "\n",
    "environment = Environment(height, width, goal_pos, goal_vel, max_time, level)\n",
    "\n",
    "fig = plt.figure()\n",
    "ax = plt.axes(xlim=(0, height), ylim=(0, width))\n",
    "a = np.random.random((height, width))\n",
    "cmap = LinearSegmentedColormap.from_list('mycmap', ['purple'])\n",
    "im = plt.imshow(a, interpolation='none', cmap='plasma')\n",
    "\n",
    "def animate(i):\n",
    "    frame = environment.model_readable_representation()\n",
    "    a = im.get_array()\n",
    "    a = frame\n",
    "    im.set_array(a)\n",
    "    environment.move()\n",
    "\n",
    "    return [im]\n",
    "    \n",
    "animation = matplotlib.animation.FuncAnimation(fig, animate, frames=50)"
   ]
  },
  {
   "cell_type": "markdown",
   "metadata": {},
   "source": [
    "We now generate a dataset of frames, which we call $X$. It can take a long time to make the dataset, so we prefer to save and reload it.\n",
    "Note that the computer might not be able to hold all 800,000 frames in memory at once; my laptop can only hold 500,000."
   ]
  },
  {
   "cell_type": "code",
   "execution_count": 6,
   "metadata": {},
   "outputs": [
    {
     "name": "stdout",
     "output_type": "stream",
     "text": [
      "CPU times: user 2.27 s, sys: 7min 26s, total: 7min 28s\n",
      "Wall time: 12min\n"
     ]
    }
   ],
   "source": [
    "%%time\n",
    "\n",
    "n_data_points = 100000  # they used about 800,000 in the original paper\n",
    "\n",
    "def environment_frames(n):\n",
    "    \"\"\"Makes exactly n frames.\"\"\"\n",
    "    frames = []\n",
    "    for _ in range(n // max_time):\n",
    "        environment = Environment(height, width, goal_pos, goal_vel, max_time, level)\n",
    "        for _ in range(max_time):\n",
    "            frames.append(environment.model_readable_representation().flatten())\n",
    "            environment.move()\n",
    "    environment = Environment(height, width, goal_pos, goal_vel, max_time, level)\n",
    "    while len(frames) < n:\n",
    "        frames.append(environment.model_readable_representation().flatten())\n",
    "        environment.move()\n",
    "    return frames\n",
    "\n",
    "try:\n",
    "    X = np.load('/common/users/am2229/autoencoder-data.npy')\n",
    "    if len(X) > n_data_points:\n",
    "        X = X[:n_data_points]\n",
    "    elif len(X) < n_data_points:\n",
    "        # we have to make more\n",
    "        raise ValueError('insufficiently-many frames in dataset.')\n",
    "except (FileNotFoundError, ValueError):\n",
    "    with Pool(cpu_count()) as pool:\n",
    "        n_data_points_per_thread = [n_data_points // cpu_count()] * cpu_count()\n",
    "        n_data_points_per_thread[-1] += n_data_points - sum(n_data_points_per_thread)  # any leftover is handled by the last thread\n",
    "        frame_collections = pool.map(environment_frames, n_data_points_per_thread)\n",
    "\n",
    "    X = np.array(sum(frame_collections, [])[:n_data_points])\n",
    "    try:\n",
    "        np.save('/common/users/am2229/autoencoder-data.npy', X)\n",
    "    except:\n",
    "        print('Unable to save dataset. Ignoring and moving on')"
   ]
  },
  {
   "cell_type": "markdown",
   "metadata": {},
   "source": [
    "# Making the Planning Model\n",
    "\n",
    "The environmental model takes in 5 states of the environment and predicts the next state.\n",
    "\n",
    "![Model Overview](figs/model-overview.png)\n",
    "\n",
    "There are 2 components of this model:\n",
    "\n",
    "- an autoencoder which converts a frame to a representation\n",
    "- a predictive model which predicts the next frame's representation.\n",
    "\n",
    "We first make and train the first component, and then the second.\n",
    "In the final model, the predictive model actually takes 5 consecutive frames' representations, but that's a minor detail we'll add later.\n",
    "We note that both the autoencoder and the predictive model are trained in a supervised manner.\n",
    "\n",
    "We first define the hyperparameters.\n",
    "We use a `Z_dim` of 36 because the final model will use a 6x6x1 Z-representation instead of a continuous real vector.\n",
    "We set `h_dim` to 200 because it seems like a good number."
   ]
  },
  {
   "cell_type": "code",
   "execution_count": 8,
   "metadata": {},
   "outputs": [],
   "source": [
    "x_dim = (width + 1) * (height + 1)\n",
    "h_dim = 200\n",
    "Z_dim = 36\n",
    "lr = 0.001\n",
    "n_train_epochs = 10\n",
    "batch_size = 100"
   ]
  },
  {
   "cell_type": "markdown",
   "metadata": {},
   "source": [
    "We can now make the model itself, which is a simple encoder-decoder model.\n",
    "\n",
    "We use Xavier initialization for the weights.\n",
    "The encoder is a 1-hidden-layer feed forward neural network, and the decoder is the same."
   ]
  },
  {
   "cell_type": "code",
   "execution_count": 9,
   "metadata": {},
   "outputs": [],
   "source": [
    "def xavier_init(size):\n",
    "    input_dim = size[0]\n",
    "    xavier_stdev = 1 / np.sqrt(input_dim / 2)\n",
    "    return Variable(torch.randn(*size) * xavier_stdev, requires_grad=True)\n",
    "\n",
    "\n",
    "Wxh = xavier_init(size=[x_dim, h_dim])\n",
    "bxh = Variable(torch.zeros(h_dim), requires_grad=True)\n",
    "Whh = xavier_init(size=[h_dim, h_dim])\n",
    "bhh = Variable(torch.zeros(h_dim), requires_grad=True)\n",
    "\n",
    "Whz_mu = xavier_init(size=[h_dim, Z_dim])\n",
    "bhz_mu = Variable(torch.zeros(Z_dim), requires_grad=True)\n",
    "\n",
    "Whz_var = xavier_init(size=[h_dim, Z_dim])\n",
    "bhz_var = Variable(torch.zeros(Z_dim), requires_grad=True)\n",
    "\n",
    "\n",
    "def Q(x):\n",
    "    x = x.float()  # correct type and shape\n",
    "    \n",
    "    # the model expects the input to have shape [batch size, width+1, height+1], which is then flattened.\n",
    "\n",
    "    if x.shape == (width+1, height+1):\n",
    "        x = x.reshape([1, (width+1)*(height+1)])\n",
    "    \n",
    "    h = nn.relu(x @ Wxh + bxh)\n",
    "    h = nn.relu(h @ Whh + bhh)\n",
    "    z_mu = h @ Whz_mu + bhz_mu\n",
    "    z_var = h @ Whz_var + bhz_var\n",
    "    max_z_var = 87.\n",
    "    # we have to keep the variance within a reasonable bound\n",
    "    # because we take the exponent of it when we find the loss,\n",
    "    # and it overflows past max_z_var\n",
    "    z_var = torch.clamp(z_var, min=-max_z_var, max=max_z_var)\n",
    "    return z_mu, z_var\n",
    "\n",
    "\n",
    "def sample_z(mu, log_var):\n",
    "    eps = Variable(torch.randn(batch_size, Z_dim))\n",
    "    return mu + torch.exp(log_var / 2) * eps\n",
    "\n",
    "\n",
    "Wzh = xavier_init(size=[Z_dim, h_dim])\n",
    "bzh = Variable(torch.zeros(h_dim), requires_grad=True)\n",
    "\n",
    "Whx = xavier_init(size=[h_dim, x_dim])\n",
    "bhx = Variable(torch.zeros(x_dim), requires_grad=True)\n",
    "\n",
    "\n",
    "def P(z):\n",
    "    h = nn.relu(z @ Wzh + bzh)\n",
    "    x = torch.sigmoid(h @ Whx + bhx)\n",
    "    return x"
   ]
  },
  {
   "cell_type": "markdown",
   "metadata": {},
   "source": [
    "Let's train the autoencoder now."
   ]
  },
  {
   "cell_type": "code",
   "execution_count": 10,
   "metadata": {},
   "outputs": [
    {
     "name": "stdout",
     "output_type": "stream",
     "text": [
      "Beginning epoch 0\n",
      "Beginning epoch 1\n",
      "Beginning epoch 2\n",
      "Beginning epoch 3\n",
      "Beginning epoch 4\n",
      "Beginning epoch 5\n",
      "Beginning epoch 6\n",
      "Beginning epoch 7\n",
      "Beginning epoch 8\n",
      "Beginning epoch 9\n"
     ]
    }
   ],
   "source": [
    "params = [Wxh, Whh, bhh, bxh, Whz_mu, bhz_mu, Whz_var, bhz_var, Wzh, bzh, Whx, bhx]\n",
    "\n",
    "solver = optim.Adam(params, lr=lr)\n",
    "losses = []\n",
    "losses_in_epoch = []\n",
    "losses_avg_per_epoch = []\n",
    "\n",
    "X_torch = torch.from_numpy(X).float()\n",
    "\n",
    "for epoch in range(n_train_epochs):\n",
    "    print('Beginning epoch {}'.format(epoch))\n",
    "    shuffled_indices = torch.randperm(len(X))\n",
    "    batches_indices = []\n",
    "    batch_indices = []\n",
    "    for index in shuffled_indices:\n",
    "        batch_indices.append(index)\n",
    "        if len(batch_indices) == batch_size:\n",
    "            batches_indices.append(batch_indices)\n",
    "            batch_indices = []\n",
    "            \n",
    "    losses_in_epoch = []\n",
    "    for batch_indices in batches_indices:\n",
    "        batch = Variable(X_torch[batch_indices])\n",
    "        y_true = Variable(X_torch[batch_indices])\n",
    "        \n",
    "        # Forward\n",
    "        z_mu, z_var = Q(batch)\n",
    "        z = sample_z(z_mu, z_var)\n",
    "        y_pred = P(z)\n",
    "\n",
    "        # Loss\n",
    "        recon_loss = nn.binary_cross_entropy(y_pred, y_true, reduction='sum') / batch_size\n",
    "        kl_loss = torch.mean(0.5 * torch.sum(torch.exp(z_var) + z_mu**2 - 1. - z_var, 1))\n",
    "        loss = recon_loss + kl_loss\n",
    "        \n",
    "        losses.append(loss)\n",
    "        losses_in_epoch.append(loss)\n",
    "        \n",
    "        # Backward\n",
    "        loss.backward()\n",
    "\n",
    "        # Update\n",
    "        solver.step()\n",
    "        \n",
    "    losses_avg_per_epoch.append(sum(losses_in_epoch) / len(batch_indices))"
   ]
  },
  {
   "cell_type": "code",
   "execution_count": 11,
   "metadata": {},
   "outputs": [
    {
     "data": {
      "image/png": "[encoded data removed]",
      "text/plain": [
       "<Figure size 432x288 with 1 Axes>"
      ]
     },
     "metadata": {},
     "output_type": "display_data"
    }
   ],
   "source": [
    "plt.plot(medfilt(losses))\n",
    "plt.yscale('log')"
   ]
  },
  {
   "cell_type": "code",
   "execution_count": 12,
   "metadata": {},
   "outputs": [],
   "source": [
    "def encode(frame):\n",
    "    \"\"\"Accepts a numpy ndarray.\"\"\"\n",
    "    frame = torch.from_numpy(frame)\n",
    "    return Q(frame)\n",
    "\n",
    "\n",
    "def decode(representation):\n",
    "    frames_generated = P(sample_z(*representation)).reshape(batch_size, height+1, width+1)\n",
    "    frame = frames_generated[0]\n",
    "    frame = np.float64(frame.detach().numpy())\n",
    "    return frame"
   ]
  },
  {
   "cell_type": "markdown",
   "metadata": {},
   "source": [
    "We can compare the model's predicted next frame with the actual next frame."
   ]
  },
  {
   "cell_type": "code",
   "execution_count": 13,
   "metadata": {},
   "outputs": [
    {
     "data": {
      "image/png": "[encoded data removed]",
      "text/plain": [
       "<Figure size 720x720 with 2 Axes>"
      ]
     },
     "metadata": {},
     "output_type": "display_data"
    }
   ],
   "source": [
    "environment = Environment(height, width, goal_pos, goal_vel, max_time, level)\n",
    "\n",
    "frame = environment.model_readable_representation()\n",
    "reconstruction = decode(encode(frame))\n",
    "\n",
    "cmap = LinearSegmentedColormap.from_list('mycmap', ['purple', 'yellow', 'blue'])\n",
    "\n",
    "plt.figure(figsize=(10, 10))\n",
    "plt.subplot(221)\n",
    "plt.title('Original Frame')\n",
    "plt.imshow(frame, cmap=cmap)\n",
    "plt.subplot(222)\n",
    "plt.title('Reconstruction')\n",
    "plt.imshow(reconstruction, cmap=cmap)\n",
    "plt.tight_layout()"
   ]
  },
  {
   "cell_type": "markdown",
   "metadata": {},
   "source": [
    "Now, we can make the next-frame-predictor.\n",
    "It takes the current frame's representation and predicts the next frame's representation.\n",
    "We generate its training set by running the autoencoder on every frame, which is very fast."
   ]
  },
  {
   "cell_type": "code",
   "execution_count": 14,
   "metadata": {},
   "outputs": [],
   "source": [
    "representations_of_all_frames_z_mu, representations_of_all_frames_z_var = encode(X)"
   ]
  },
  {
   "cell_type": "markdown",
   "metadata": {},
   "source": [
    "Now, we can train on the X representions.\n",
    "For now, the model will be a simple neural network, not a gated CNN."
   ]
  },
  {
   "cell_type": "code",
   "execution_count": 15,
   "metadata": {},
   "outputs": [
    {
     "name": "stdout",
     "output_type": "stream",
     "text": [
      "Beginning epoch 0\n",
      "Beginning epoch 1\n",
      "Beginning epoch 2\n",
      "Beginning epoch 3\n",
      "Beginning epoch 4\n",
      "Beginning epoch 5\n",
      "Beginning epoch 6\n",
      "Beginning epoch 7\n",
      "Beginning epoch 8\n",
      "Beginning epoch 9\n"
     ]
    },
    {
     "data": {
      "image/png": "[encoded data removed]",
      "text/plain": [
       "<Figure size 432x288 with 1 Axes>"
      ]
     },
     "metadata": {},
     "output_type": "display_data"
    }
   ],
   "source": [
    "predict_future_n_train_epochs = 10\n",
    "predict_future_lr = 0.01\n",
    "predict_future_batch_size = 100\n",
    "predict_future_h_dim = 50\n",
    "predict_future_Wxh_z_mu = Variable(torch.zeros(Z_dim, predict_future_h_dim), requires_grad=True)\n",
    "predict_future_bxh_z_mu = Variable(torch.zeros(predict_future_h_dim), requires_grad=True)\n",
    "predict_future_Whx_z_mu = Variable(torch.zeros(predict_future_h_dim, Z_dim), requires_grad=True)\n",
    "predict_future_bhx_z_mu = Variable(torch.zeros(Z_dim), requires_grad=True)\n",
    "predict_future_trainable_params_z_mu = [predict_future_Wxh_z_mu, predict_future_bxh_z_mu]\n",
    "solver = optim.Adam(predict_future_trainable_params_z_mu, lr=predict_future_lr)\n",
    "\n",
    "def predict_future_z_mu(current_representation):\n",
    "    \"\"\"\n",
    "    Predicts the next frame's VAE representation.\n",
    "    For now, it just uses a single frame, but it will eventually use many previous frames.\n",
    "    Args:\n",
    "        current_representation: torch.Variable, should have shape [batch_size, Z_dim].\n",
    "    Returns:\n",
    "        The Z representation of the next frame.\n",
    "    \"\"\"\n",
    "    \n",
    "    h = nn.relu(current_representation @ predict_future_Wxh_z_mu + predict_future_bxh_z_mu)\n",
    "    future_representation = nn.relu(h @ predict_future_Whx_z_mu + predict_future_bhx_z_mu)\n",
    "    return future_representation\n",
    "\n",
    "losses = []\n",
    "\n",
    "for epoch in range(predict_future_n_train_epochs):\n",
    "    print('Beginning epoch', epoch)\n",
    "    shuffled_indices = torch.randperm(len(representations_of_all_frames_z_mu)-1)\n",
    "    batches_indices = []\n",
    "    batch_indices = []\n",
    "    for index in shuffled_indices:\n",
    "        batch_indices.append(index)\n",
    "        if len(batch_indices) == predict_future_batch_size:\n",
    "            batches_indices.append(batch_indices)\n",
    "            batch_indices = []\n",
    "           \n",
    "    for batch_indices in batches_indices:\n",
    "        x = Variable(representations_of_all_frames_z_mu[batch_indices])\n",
    "        y_true = Variable(representations_of_all_frames_z_mu[[i + 1 for i in batch_indices]])\n",
    "        \n",
    "        # Forward\n",
    "        y_pred = predict_future_z_mu(x)\n",
    "        \n",
    "        # Loss\n",
    "        loss = nn.binary_cross_entropy(y_pred, y_true, reduction='sum') / predict_future_batch_size\n",
    "        losses.append(loss)\n",
    "\n",
    "        # Backward\n",
    "        loss.backward()\n",
    "\n",
    "        # Update\n",
    "        solver.step()\n",
    "        \n",
    "plt.plot(losses);"
   ]
  },
  {
   "cell_type": "code",
   "execution_count": 16,
   "metadata": {},
   "outputs": [
    {
     "name": "stdout",
     "output_type": "stream",
     "text": [
      "Beginning epoch 0\n",
      "Beginning epoch 1\n",
      "Beginning epoch 2\n",
      "Beginning epoch 3\n",
      "Beginning epoch 4\n",
      "Beginning epoch 5\n",
      "Beginning epoch 6\n",
      "Beginning epoch 7\n",
      "Beginning epoch 8\n",
      "Beginning epoch 9\n"
     ]
    },
    {
     "data": {
      "image/png": "[encoded data removed]",
      "text/plain": [
       "<Figure size 432x288 with 1 Axes>"
      ]
     },
     "metadata": {},
     "output_type": "display_data"
    }
   ],
   "source": [
    "predict_future_n_train_epochs = 10\n",
    "predict_future_lr = 0.01\n",
    "predict_future_batch_size = 100\n",
    "predict_future_h_dim = 50\n",
    "predict_future_Wxh_z_var = Variable(torch.zeros(Z_dim, predict_future_h_dim), requires_grad=True)\n",
    "predict_future_bxh_z_var = Variable(torch.zeros(predict_future_h_dim), requires_grad=True)\n",
    "predict_future_Whx_z_var = Variable(torch.zeros(predict_future_h_dim, Z_dim), requires_grad=True)\n",
    "predict_future_bhx_z_var = Variable(torch.zeros(Z_dim), requires_grad=True)\n",
    "predict_future_trainable_params_z_var = [predict_future_Wxh_z_var, predict_future_bxh_z_var]\n",
    "solver = optim.Adam(predict_future_trainable_params_z_var, lr=predict_future_lr)\n",
    "\n",
    "def predict_future_z_var(current_representation):\n",
    "    \"\"\"\n",
    "    Predicts the next frame's VAE representation.\n",
    "    For now, it just uses a single frame, but it will eventually use many previous frames.\n",
    "    Args:\n",
    "        current_representation: torch.Variable, should have shape [batch_size, Z_dim].\n",
    "    Returns:\n",
    "        The Z representation of the next frame.\n",
    "    \"\"\"\n",
    "    \n",
    "    h = nn.relu(current_representation @ predict_future_Wxh_z_var + predict_future_bxh_z_var)\n",
    "    future_representation = nn.relu(h @ predict_future_Whx_z_var + predict_future_bhx_z_var)\n",
    "    return future_representation\n",
    "\n",
    "losses = []\n",
    "\n",
    "for epoch in range(predict_future_n_train_epochs):\n",
    "    print('Beginning epoch', epoch)\n",
    "    shuffled_indices = torch.randperm(len(representations_of_all_frames_z_var)-1)\n",
    "    batches_indices = []\n",
    "    batch_indices = []\n",
    "    for index in shuffled_indices:\n",
    "        batch_indices.append(index)\n",
    "        if len(batch_indices) == predict_future_batch_size:\n",
    "            batches_indices.append(batch_indices)\n",
    "            batch_indices = []\n",
    "           \n",
    "    for batch_indices in batches_indices:\n",
    "        x = Variable(representations_of_all_frames_z_var[batch_indices])\n",
    "        y_true = Variable(representations_of_all_frames_z_var[[i + 1 for i in batch_indices]])\n",
    "        \n",
    "        # Forward\n",
    "        y_pred = predict_future_z_var(x)\n",
    "        \n",
    "        # Loss\n",
    "        loss = nn.binary_cross_entropy(y_pred, y_true, reduction='sum') / predict_future_batch_size\n",
    "        losses.append(loss)\n",
    "\n",
    "        # Backward\n",
    "        loss.backward()\n",
    "\n",
    "        # Update\n",
    "        solver.step()\n",
    "        \n",
    "plt.plot(losses);"
   ]
  },
  {
   "cell_type": "code",
   "execution_count": 17,
   "metadata": {},
   "outputs": [],
   "source": [
    "def predict_future(z_mu, z_var):\n",
    "    return predict_future_z_mu(z_mu), predict_future_z_var(z_var)"
   ]
  },
  {
   "cell_type": "markdown",
   "metadata": {},
   "source": [
    "From these components, we now have a model which predicts the future.\n",
    "For now, we'll just use the actual environment playout because the model is not very accurate yet."
   ]
  },
  {
   "cell_type": "code",
   "execution_count": 18,
   "metadata": {},
   "outputs": [
    {
     "data": {
      "image/png": "[encoded data removed]",
      "text/plain": [
       "<Figure size 432x288 with 1 Axes>"
      ]
     },
     "metadata": {},
     "output_type": "display_data"
    },
    {
     "data": {
      "image/png": "[encoded data removed]",
      "text/plain": [
       "<Figure size 432x288 with 1 Axes>"
      ]
     },
     "metadata": {},
     "output_type": "display_data"
    },
    {
     "data": {
      "image/png": "[encoded data removed]",
      "text/plain": [
       "<Figure size 432x288 with 1 Axes>"
      ]
     },
     "metadata": {},
     "output_type": "display_data"
    },
    {
     "data": {
      "image/png": "[encoded data removed]",
      "text/plain": [
       "<Figure size 432x288 with 1 Axes>"
      ]
     },
     "metadata": {},
     "output_type": "display_data"
    },
    {
     "data": {
      "image/png": "[encoded data removed]",
      "text/plain": [
       "<Figure size 432x288 with 1 Axes>"
      ]
     },
     "metadata": {},
     "output_type": "display_data"
    }
   ],
   "source": [
    "for _ in range(5):\n",
    "    plt.imshow(frame)\n",
    "    plt.show()\n",
    "    frame = decode(predict_future(*encode(frame)))"
   ]
  },
  {
   "cell_type": "code",
   "execution_count": 19,
   "metadata": {},
   "outputs": [],
   "source": [
    "environment = Environment(height, width, goal_pos, goal_vel, max_time, level)\n",
    "\n",
    "environment_prediction = []\n",
    "for _ in range(max_time):\n",
    "    environment_prediction.append(environment.model_readable_representation())\n",
    "    environment.move()"
   ]
  },
  {
   "cell_type": "markdown",
   "metadata": {},
   "source": [
    "# Decision Making Component\n",
    "\n",
    "Now, we use reinforcement learning with a Monte Carlo tree search to decide the direction of movement. \n",
    "The agent can move like a king in chess: up, down, left, right, or a diagonal.\n",
    "From this, each node in the tree search has 8 children.\n",
    "There are 8 moves available at every step, so there are more potential plays than there are atoms in the universe, by several orders of orders of magnitudes.\n",
    "To decide where to move, we use a Monte Carlo Tree Search.\n",
    "\n",
    "First, we create a few functions which let the agent move in the environment."
   ]
  },
  {
   "cell_type": "code",
   "execution_count": 20,
   "metadata": {},
   "outputs": [],
   "source": [
    "def agent_mask(agent_pos):\n",
    "    mask = np.zeros((height+1, width+1))\n",
    "    mask[int(agent_pos.x), int(agent_pos.y)] = 3.\n",
    "    return mask\n",
    "\n",
    "\n",
    "def bounce(agent_pos, height, width):\n",
    "    epsilon = 10e-10\n",
    "    \n",
    "    if agent_pos.x < 0:\n",
    "        x = abs(agent_pos.x)\n",
    "    elif agent_pos.x >= width:\n",
    "        x = 2 * width - agent_pos.x - epsilon\n",
    "    else:\n",
    "        x = agent_pos.x\n",
    "\n",
    "    if agent_pos.y < 0:\n",
    "        y = abs(agent_pos.y)\n",
    "    elif agent_pos.y >= height:\n",
    "        y = 2 * height - agent_pos.y - epsilon\n",
    "    else:\n",
    "        y = agent_pos.y\n",
    "    \n",
    "    return Position(x, y)\n",
    "\n",
    "\n",
    "directions = [\n",
    "    Velocity(-1/sqrt(2), 1/sqrt(2)),  Velocity(0, 1),  Velocity(1/sqrt(2), 1/sqrt(2)),\n",
    "    Velocity(-1, 0),                                   Velocity(1, 0),\n",
    "    Velocity(-1/sqrt(2), -1/sqrt(2)), Velocity(0, -1), Velocity(1/sqrt(2), -1/sqrt(2)),\n",
    "]\n",
    "\n",
    "environment = Environment(height, width, goal_pos, goal_vel, max_time, level)"
   ]
  },
  {
   "cell_type": "markdown",
   "metadata": {},
   "source": [
    "Now, we can create the Monte Carlo Tree Search algorithm.\n",
    "Consider the diagram below.\n",
    "\n",
    "![MCTS](https://jeffbradberry.com/images/mcts_selection.png)\n",
    "\n",
    "We evaluate a node's quality using upper confidence bound 1 for trees (\"UCT\"), defined by\n",
    "\n",
    "![UCT](https://wikimedia.org/api/rest_v1/media/math/render/svg/b607bd848f08876b247148bad27c3c26a1066a0d)\n",
    "\n",
    "where:\n",
    "- $w_i$ stands for the number of wins for the node considered after the i-th move\n",
    "- $n_i$ stands for the number of simulations for the node considered after the i-th move\n",
    "- $c$ is the exploration parameter—theoretically equal to √2; in practice usually chosen empirically\n",
    "- $N_i$ stands for the total number of simulations after the i-th move\n",
    "    \n",
    "To add a node using Monte Carlo Tree Search, we follow 4 steps:\n",
    "\n",
    "1. **select** the most promosing move using UCT, recurring until we reach a leaf,\n",
    "2. **expand** the leaf by choosing a random following move,\n",
    "3. **simulation** a random play, recording whether we won or lost,\n",
    "4. and **backpropogating** the won or loss up the tree and incrementing the number of times each node has been run.\n",
    "\n",
    "And then we redo this until we feel satisfied. \n",
    "\n",
    "First, we make a `MCTSNode` data structure and a root for the tree."
   ]
  },
  {
   "cell_type": "code",
   "execution_count": 21,
   "metadata": {},
   "outputs": [],
   "source": [
    "class MCTSNode:\n",
    "    def __init__(self, direction, wins, timeouts, collisions, runs, parent, children):\n",
    "        self.direction = direction\n",
    "        self.wins = wins\n",
    "        self.collisions = 0\n",
    "        self.timeouts = 0\n",
    "        self.runs = runs\n",
    "        self.parent = parent\n",
    "        self.children = children\n",
    "        \n",
    "    def __str__(self):\n",
    "        return self.__repr__()\n",
    "    \n",
    "    def __repr__(self):\n",
    "        return 'MCTSNode({}, {}, {}, {}, {}, {}, ...)'.format(self.direction, self.wins, self.timeouts, self.collisions, self.runs, self.parent) \n",
    "    \n",
    "    @property\n",
    "    def score(self):\n",
    "        return self.wins * 1 + self.timeouts * 0 + self.collisions * -1\n",
    "\n",
    "def position(node):\n",
    "    if node is None:\n",
    "        return Position(0, 0)\n",
    "    return bounce(position(node.parent) + node.direction, height, width)"
   ]
  },
  {
   "cell_type": "markdown",
   "metadata": {},
   "source": [
    "And now we can create a UCT evaluator."
   ]
  },
  {
   "cell_type": "code",
   "execution_count": 22,
   "metadata": {},
   "outputs": [],
   "source": [
    "def quality(node, root):\n",
    "    w_i = node.score\n",
    "    n_i = node.runs\n",
    "    N_i = root.runs  # not the correct N_i, but it works decently well\n",
    "    c = sqrt(2)\n",
    "\n",
    "    return w_i / n_i + c * (log(N_i) / n_i) if n_i != 0 and N_i else 1"
   ]
  },
  {
   "cell_type": "markdown",
   "metadata": {},
   "source": [
    "Now, we can make a function which selects the move which has led to the most wins."
   ]
  },
  {
   "cell_type": "code",
   "execution_count": 23,
   "metadata": {},
   "outputs": [],
   "source": [
    "def select(root, environment_prediction):\n",
    "    probability_of_randomly_picking_another_node = 0.1\n",
    "    cursor = root\n",
    "    depth = 0\n",
    "    while cursor.children != []:\n",
    "        if random.random() < probability_of_randomly_picking_another_node and len(cursor.children) != len(directions):\n",
    "            cursor = expand(cursor, environment_prediction[depth+1:])\n",
    "        else:\n",
    "            cursor = max(cursor.children, key=lambda child: quality(child, root))\n",
    "        depth += 1\n",
    "\n",
    "    return cursor, depth"
   ]
  },
  {
   "cell_type": "markdown",
   "metadata": {},
   "source": [
    "Now, we make a function which randomly selects a move to follow a leaf."
   ]
  },
  {
   "cell_type": "code",
   "execution_count": 24,
   "metadata": {},
   "outputs": [],
   "source": [
    "def expand(parent, environment_prediction):\n",
    "    # if the agent is already next to an obstacle or the goal, \n",
    "    # then the game is over and we cannot expand upon this node\n",
    "    agent_pos = position(parent)\n",
    "    env = environment_prediction[0]\n",
    "    if env[int(agent_pos.x), int(agent_pos.y)] in [1, 2]:\n",
    "        return parent\n",
    "    \n",
    "    used_directions = [child.direction for child in parent.children]\n",
    "    available_directions = [direction for direction in directions if direction not in used_directions]\n",
    "    child = MCTSNode(random.choice(available_directions), 0, 0, 0, 0, parent, [])\n",
    "    parent.children.append(child)\n",
    "    return child"
   ]
  },
  {
   "cell_type": "markdown",
   "metadata": {},
   "source": [
    "We can now make a function which simulates a random play after the node.\n",
    "It returns 1 if it won and 0 if it lost."
   ]
  },
  {
   "cell_type": "code",
   "execution_count": 25,
   "metadata": {},
   "outputs": [],
   "source": [
    "def simulate(leaf, environment_prediction):\n",
    "    agent_pos = position(leaf)\n",
    "    if environment_prediction[0][int(agent_pos.x), int(agent_pos.y)] == 1:\n",
    "        return (0, 0, 1)\n",
    "\n",
    "    elif environment_prediction[0][int(agent_pos.x), int(agent_pos.y)] == 2:\n",
    "        return (1, 0, 0)\n",
    "\n",
    "    moves = [random.choice(directions) for _ in range(max_time)]\n",
    "\n",
    "    for move, env in zip(moves, environment_prediction):\n",
    "        agent_pos = bounce(agent_pos + move, height, width)\n",
    "        agent_hitbox = [int(agent_pos.x), int(agent_pos.y)]\n",
    "\n",
    "        if env[int(agent_pos.x), int(agent_pos.y)] == 1:\n",
    "            return (0, 0, 1)\n",
    "\n",
    "        elif env[int(agent_pos.x), int(agent_pos.y)] == 2:\n",
    "            return (1, 0, 0)\n",
    "\n",
    "    return (0, 1, 0)"
   ]
  },
  {
   "cell_type": "markdown",
   "metadata": {},
   "source": [
    "Using the simulate function, we can backpropagate the outcome."
   ]
  },
  {
   "cell_type": "code",
   "execution_count": 26,
   "metadata": {},
   "outputs": [],
   "source": [
    "def backpropagate(leaf, wins, timeouts, collisions):\n",
    "    cursor = leaf\n",
    "    while cursor:\n",
    "        cursor.wins += wins\n",
    "        cursor.timeouts += timeouts\n",
    "        cursor.collisions += collisions\n",
    "        cursor.runs += wins + timeouts + collisions\n",
    "        cursor = cursor.parent"
   ]
  },
  {
   "cell_type": "markdown",
   "metadata": {},
   "source": [
    "Taking everything into account, we can add a single node."
   ]
  },
  {
   "cell_type": "code",
   "execution_count": 27,
   "metadata": {},
   "outputs": [],
   "source": [
    "root = MCTSNode(Position(random.randint(0, height), random.randint(0, width)), 0, 0, 0, 0, None, [])\n",
    "best_node, depth = select(root, environment_prediction)\n",
    "leaf = expand(best_node, environment_prediction[depth+1:])\n",
    "results = simulate(leaf, environment_prediction[depth+1:])\n",
    "backpropagate(leaf, *results)"
   ]
  },
  {
   "cell_type": "markdown",
   "metadata": {},
   "source": [
    "In all likelihood, the root will have 0 wins and definitely 1 run.\n",
    "As you can see from the table below, the time required to fill the tree grows very quickly as we use it more often at a roughly-linear scale.\n",
    "\n",
    "|     n | Time (s) |\n",
    "|-------|----------|\n",
    "| 10000 | 13.9     |\n",
    "| 20000 | 23.9     |\n",
    "| 40000 | 50.0     |"
   ]
  },
  {
   "cell_type": "code",
   "execution_count": 28,
   "metadata": {},
   "outputs": [
    {
     "name": "stdout",
     "output_type": "stream",
     "text": [
      "CPU times: user 1min 17s, sys: 2.38 s, total: 1min 20s\n",
      "Wall time: 1min 20s\n"
     ]
    }
   ],
   "source": [
    "%%time\n",
    "\n",
    "from time import time\n",
    "\n",
    "root = MCTSNode(Position(random.randint(0, height), random.randint(0, width)), 0, 0, 0, 0, None, [])\n",
    "\n",
    "start = time()\n",
    "for i in range(80000):\n",
    "    best_node, depth = select(root, environment_prediction)\n",
    "    leaf = expand(best_node, environment_prediction[depth+1:])\n",
    "    results = simulate(leaf, environment_prediction[depth+1:])\n",
    "    backpropagate(leaf, *results)"
   ]
  },
  {
   "cell_type": "markdown",
   "metadata": {},
   "source": [
    "However, we can make this go much faster if we parallelize it. \n",
    "To do so, we make each CPU core complete its own tree, and then we combine the trees together at the end.\n",
    "\n",
    "Psuedocode:\n",
    "\n",
    "```\n",
    "merge(a: tree, b: tree)\n",
    "    for each immediate child of b:\n",
    "        if child of b has a matching immediate child of a:\n",
    "            merge(matching child of a, child of b)\n",
    "        else:\n",
    "            push child of b into a.children\n",
    "        backpropagate(child of b, b.wins, b.timeouts, b.collisions)\n",
    "```"
   ]
  },
  {
   "cell_type": "code",
   "execution_count": 29,
   "metadata": {},
   "outputs": [],
   "source": [
    "# %%time\n",
    "\n",
    "# def merge(a, b):\n",
    "#     \"\"\"a and b are both MCTSNode instances. It inserts b into a.\"\"\"\n",
    "#     assert a.direction == b.direction\n",
    "    \n",
    "#     directions_of_immediate_children_of_a = [child.direction for child in a.children]\n",
    "#     for immediate_child_of_b in b.children:\n",
    "#         if immediate_child_of_b.direction in directions_of_immediate_children_of_a:\n",
    "#             matching_immediate_child = a.children[directions_of_immediate_children_of_a.index(immediate_child_of_b.direction)]\n",
    "#             merge(matching_immediate_child, immediate_child_of_b)\n",
    "#         else:\n",
    "#             a.children.append(immediate_child_of_b)\n",
    "#             immediate_child_of_b.parent = a\n",
    "#     backpropagate(b, b.wins, b.timeouts, b.collisions)\n",
    "\n",
    "\n",
    "# def fill_tree(starting_position, environment_prediction):\n",
    "#     root = MCTSNode(starting_position, 0, 0, 0, 0, None, [])\n",
    "#     for _ in range(20000):\n",
    "#         best_node, depth = select(root, environment_prediction)\n",
    "#         leaf = expand(best_node, environment_prediction[depth+1:])\n",
    "#         results = simulate(leaf, environment_prediction[depth+1:])\n",
    "#         backpropagate(leaf, *results)\n",
    "#     return root\n",
    "\n",
    "\n",
    "# with Pool(cpu_count()) as pool:\n",
    "#     args = (Position(height // 2, width // 2), environment_prediction)\n",
    "#     trees = pool.starmap(fill_tree, [args] * cpu_count())\n",
    "#     root = trees[0]\n",
    "#     for other_tree in trees[1:]:\n",
    "#         merge(root, other_tree)"
   ]
  },
  {
   "cell_type": "markdown",
   "metadata": {},
   "source": [
    "Using this multiprocessing step, we see that we can add nodes about 6 times more quickly.\n",
    "\n",
    "|      n | Time (s) |\n",
    "|--------|----------|\n",
    "| 240000 |  43.7    |\n",
    "| 480000 |  56.6    |\n",
    "| 960000 | 186.0    |\n",
    "\n",
    "We now go down the merged tree to find the best path."
   ]
  },
  {
   "cell_type": "code",
   "execution_count": 30,
   "metadata": {},
   "outputs": [],
   "source": [
    "agent_positions = []\n",
    "cursor = root\n",
    "env = iter(environment_prediction)\n",
    "while cursor.children != []:\n",
    "    agent_pos = position(cursor)\n",
    "    agent_positions.append(agent_pos)\n",
    "    if next(env)[int(agent_pos.x), int(agent_pos.y)] in [1, 2]:\n",
    "        break\n",
    "    cursor = max(cursor.children, key=lambda child: child.score / child.runs)"
   ]
  },
  {
   "cell_type": "code",
   "execution_count": 31,
   "metadata": {},
   "outputs": [],
   "source": [
    "%%capture\n",
    "\n",
    "fig = plt.figure()\n",
    "ax = plt.axes(xlim=(0, height), ylim=(0, width))\n",
    "a = np.random.random(environment_prediction[0].shape)\n",
    "im = plt.imshow(a, interpolation='none', cmap='plasma')\n",
    "\n",
    "def animate(i):\n",
    "    frame = (agent_mask(agent_positions[i]) + environment_prediction[i]) / 3\n",
    "    a = im.get_array()\n",
    "    a = frame\n",
    "    im.set_array(a)\n",
    "    environment.move()\n",
    "\n",
    "    return [im]\n",
    "\n",
    "animation = matplotlib.animation.FuncAnimation(fig, animate, frames=min(len(agent_positions), len(environment_prediction)))\n",
    "animation.save('mcts.mp4')"
   ]
  },
  {
   "cell_type": "code",
   "execution_count": null,
   "metadata": {},
   "outputs": [],
   "source": []
  }
 ],
 "metadata": {
  "kernelspec": {
   "display_name": "Python 3",
   "language": "python",
   "name": "python3"
  },
  "language_info": {
   "codemirror_mode": {
    "name": "ipython",
    "version": 3
   },
   "file_extension": ".py",
   "mimetype": "text/x-python",
   "name": "python",
   "nbconvert_exporter": "python",
   "pygments_lexer": "ipython3",
   "version": "3.5.5"
  }
 },
 "nbformat": 4,
 "nbformat_minor": 2
}
